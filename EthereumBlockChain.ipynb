{
 "cells": [
  {
   "cell_type": "code",
   "execution_count": 3,
   "metadata": {},
   "outputs": [],
   "source": [
    "import os\n",
    "os.environ[\"GOOGLE_APPLICATION_CREDENTIALS\"]=\"Ethereum Block Chain/My First Project-0723c678b6d6.json\"\n",
    "from google.cloud import bigquery\n",
    "client = bigquery.Client()"
   ]
  },
  {
   "cell_type": "code",
   "execution_count": 4,
   "metadata": {},
   "outputs": [],
   "source": [
    "ethereum_data_set_ref = client.dataset('crypto_ethereum', project = 'bigquery-public-data')"
   ]
  },
  {
   "cell_type": "code",
   "execution_count": 5,
   "metadata": {},
   "outputs": [
    {
     "data": {
      "text/plain": [
       "google.cloud.bigquery.dataset.DatasetReference"
      ]
     },
     "execution_count": 5,
     "metadata": {},
     "output_type": "execute_result"
    }
   ],
   "source": [
    "type(ethereum_data_set_ref)"
   ]
  },
  {
   "cell_type": "code",
   "execution_count": 6,
   "metadata": {},
   "outputs": [],
   "source": [
    "ethereum_dataset = client.get_dataset(ethereum_data_set_ref)"
   ]
  },
  {
   "cell_type": "code",
   "execution_count": 7,
   "metadata": {},
   "outputs": [
    {
     "data": {
      "text/plain": [
       "google.cloud.bigquery.dataset.Dataset"
      ]
     },
     "execution_count": 7,
     "metadata": {},
     "output_type": "execute_result"
    }
   ],
   "source": [
    "type(ethereum_dataset)"
   ]
  },
  {
   "cell_type": "code",
   "execution_count": 8,
   "metadata": {},
   "outputs": [
    {
     "data": {
      "text/plain": [
       "['amended_tokens',\n",
       " 'balances',\n",
       " 'blocks',\n",
       " 'contracts',\n",
       " 'logs',\n",
       " 'token_transfers',\n",
       " 'tokens',\n",
       " 'traces',\n",
       " 'transactions']"
      ]
     },
     "execution_count": 8,
     "metadata": {},
     "output_type": "execute_result"
    }
   ],
   "source": [
    "[table.table_id for table in client.list_tables(ethereum_dataset)]"
   ]
  },
  {
   "cell_type": "code",
   "execution_count": 9,
   "metadata": {},
   "outputs": [
    {
     "data": {
      "text/plain": [
       "google.cloud.bigquery.table.Table"
      ]
     },
     "execution_count": 9,
     "metadata": {},
     "output_type": "execute_result"
    }
   ],
   "source": [
    "blocks = client.get_table(ethereum_dataset.table('blocks'))\n",
    "type(blocks)"
   ]
  },
  {
   "cell_type": "code",
   "execution_count": 10,
   "metadata": {},
   "outputs": [
    {
     "data": {
      "text/plain": [
       "['clustering_fields',\n",
       " 'created',\n",
       " 'dataset_id',\n",
       " 'description',\n",
       " 'encryption_configuration',\n",
       " 'etag',\n",
       " 'expires',\n",
       " 'external_data_configuration',\n",
       " 'friendly_name',\n",
       " 'from_api_repr',\n",
       " 'from_string',\n",
       " 'full_table_id',\n",
       " 'labels',\n",
       " 'location',\n",
       " 'modified',\n",
       " 'mview_enable_refresh',\n",
       " 'mview_last_refresh_time',\n",
       " 'mview_query',\n",
       " 'mview_refresh_interval',\n",
       " 'num_bytes',\n",
       " 'num_rows',\n",
       " 'partition_expiration',\n",
       " 'partitioning_type',\n",
       " 'path',\n",
       " 'project',\n",
       " 'range_partitioning',\n",
       " 'reference',\n",
       " 'require_partition_filter',\n",
       " 'schema',\n",
       " 'self_link',\n",
       " 'streaming_buffer',\n",
       " 'table_id',\n",
       " 'table_type',\n",
       " 'time_partitioning',\n",
       " 'to_api_repr',\n",
       " 'to_bqstorage',\n",
       " 'view_query',\n",
       " 'view_use_legacy_sql']"
      ]
     },
     "execution_count": 10,
     "metadata": {},
     "output_type": "execute_result"
    }
   ],
   "source": [
    "[command for command in dir(blocks) if not command.startswith('_')]"
   ]
  },
  {
   "cell_type": "code",
   "execution_count": 12,
   "metadata": {},
   "outputs": [],
   "source": [
    "schema_subset = [col for col in blocks.schema if col.name in ('timestamp', 'number', 'size') ]\n",
    "results = [x for x in client.list_rows(blocks,start_index=100,selected_fields=schema_subset,max_results=10)]"
   ]
  },
  {
   "cell_type": "code",
   "execution_count": 13,
   "metadata": {},
   "outputs": [
    {
     "name": "stdout",
     "output_type": "stream",
     "text": [
      "[Row((datetime.datetime(2018, 12, 9, 2, 25, 32, tzinfo=<UTC>), 6852146, 14363), {'timestamp': 0, 'number': 1, 'size': 2}), Row((datetime.datetime(2018, 12, 9, 6, 32, 49, tzinfo=<UTC>), 6853178, 17556), {'timestamp': 0, 'number': 1, 'size': 2}), Row((datetime.datetime(2018, 12, 9, 16, 15, 55, tzinfo=<UTC>), 6855642, 30035), {'timestamp': 0, 'number': 1, 'size': 2}), Row((datetime.datetime(2018, 12, 9, 10, 4, 31, tzinfo=<UTC>), 6854079, 26309), {'timestamp': 0, 'number': 1, 'size': 2}), Row((datetime.datetime(2018, 12, 9, 23, 6, 47, tzinfo=<UTC>), 6857396, 30421), {'timestamp': 0, 'number': 1, 'size': 2}), Row((datetime.datetime(2018, 12, 9, 1, 26, 45, tzinfo=<UTC>), 6851911, 30733), {'timestamp': 0, 'number': 1, 'size': 2}), Row((datetime.datetime(2018, 12, 9, 5, 4, 6, tzinfo=<UTC>), 6852813, 16612), {'timestamp': 0, 'number': 1, 'size': 2}), Row((datetime.datetime(2018, 12, 9, 9, 16, 36, tzinfo=<UTC>), 6853908, 24987), {'timestamp': 0, 'number': 1, 'size': 2}), Row((datetime.datetime(2018, 12, 9, 16, 39, 17, tzinfo=<UTC>), 6855732, 19202), {'timestamp': 0, 'number': 1, 'size': 2}), Row((datetime.datetime(2018, 12, 9, 2, 31, 45, tzinfo=<UTC>), 6852177, 18748), {'timestamp': 0, 'number': 1, 'size': 2})]\n"
     ]
    }
   ],
   "source": [
    "print(results)"
   ]
  },
  {
   "cell_type": "code",
   "execution_count": 14,
   "metadata": {},
   "outputs": [
    {
     "name": "stdout",
     "output_type": "stream",
     "text": [
      "Row((datetime.datetime(2018, 12, 9, 2, 25, 32, tzinfo=<UTC>), 6852146, 14363), {'timestamp': 0, 'number': 1, 'size': 2})\n",
      "Row((datetime.datetime(2018, 12, 9, 6, 32, 49, tzinfo=<UTC>), 6853178, 17556), {'timestamp': 0, 'number': 1, 'size': 2})\n",
      "Row((datetime.datetime(2018, 12, 9, 16, 15, 55, tzinfo=<UTC>), 6855642, 30035), {'timestamp': 0, 'number': 1, 'size': 2})\n",
      "Row((datetime.datetime(2018, 12, 9, 10, 4, 31, tzinfo=<UTC>), 6854079, 26309), {'timestamp': 0, 'number': 1, 'size': 2})\n",
      "Row((datetime.datetime(2018, 12, 9, 23, 6, 47, tzinfo=<UTC>), 6857396, 30421), {'timestamp': 0, 'number': 1, 'size': 2})\n",
      "Row((datetime.datetime(2018, 12, 9, 1, 26, 45, tzinfo=<UTC>), 6851911, 30733), {'timestamp': 0, 'number': 1, 'size': 2})\n",
      "Row((datetime.datetime(2018, 12, 9, 5, 4, 6, tzinfo=<UTC>), 6852813, 16612), {'timestamp': 0, 'number': 1, 'size': 2})\n",
      "Row((datetime.datetime(2018, 12, 9, 9, 16, 36, tzinfo=<UTC>), 6853908, 24987), {'timestamp': 0, 'number': 1, 'size': 2})\n",
      "Row((datetime.datetime(2018, 12, 9, 16, 39, 17, tzinfo=<UTC>), 6855732, 19202), {'timestamp': 0, 'number': 1, 'size': 2})\n",
      "Row((datetime.datetime(2018, 12, 9, 2, 31, 45, tzinfo=<UTC>), 6852177, 18748), {'timestamp': 0, 'number': 1, 'size': 2})\n"
     ]
    }
   ],
   "source": [
    "for i in results:\n",
    "    print(i)"
   ]
  },
  {
   "cell_type": "code",
   "execution_count": 16,
   "metadata": {},
   "outputs": [
    {
     "data": {
      "text/html": [
       "<div>\n",
       "<style scoped>\n",
       "    .dataframe tbody tr th:only-of-type {\n",
       "        vertical-align: middle;\n",
       "    }\n",
       "\n",
       "    .dataframe tbody tr th {\n",
       "        vertical-align: top;\n",
       "    }\n",
       "\n",
       "    .dataframe thead th {\n",
       "        text-align: right;\n",
       "    }\n",
       "</style>\n",
       "<table border=\"1\" class=\"dataframe\">\n",
       "  <thead>\n",
       "    <tr style=\"text-align: right;\">\n",
       "      <th></th>\n",
       "      <th>timestamp</th>\n",
       "      <th>number</th>\n",
       "      <th>hash</th>\n",
       "      <th>parent_hash</th>\n",
       "      <th>nonce</th>\n",
       "      <th>sha3_uncles</th>\n",
       "      <th>logs_bloom</th>\n",
       "      <th>transactions_root</th>\n",
       "      <th>state_root</th>\n",
       "      <th>receipts_root</th>\n",
       "      <th>miner</th>\n",
       "      <th>difficulty</th>\n",
       "      <th>total_difficulty</th>\n",
       "      <th>size</th>\n",
       "      <th>extra_data</th>\n",
       "      <th>gas_limit</th>\n",
       "      <th>gas_used</th>\n",
       "      <th>transaction_count</th>\n",
       "    </tr>\n",
       "  </thead>\n",
       "  <tbody>\n",
       "    <tr>\n",
       "      <th>0</th>\n",
       "      <td>2018-06-07 07:52:01+00:00</td>\n",
       "      <td>5746587</td>\n",
       "      <td>0x52bbbf23565412b681ed1efac89ea3fdb8793d5ecb61...</td>\n",
       "      <td>0x36a6a43e9453ef5339ce4245292af31a53ff8ef760f5...</td>\n",
       "      <td>0x5f6e5ec0251d3b31</td>\n",
       "      <td>0x1dcc4de8dec75d7aab85b567b6ccd41ad312451b948a...</td>\n",
       "      <td>0x21400221204208040c108286042001ce0004000f0828...</td>\n",
       "      <td>0xe3dcf3629e654c233c866ded37591a3080b6d921b898...</td>\n",
       "      <td>0x6f61a1437f6f50c8112855f071610d9de647629cc801...</td>\n",
       "      <td>0x7d526b323ed18551925e79b75e78f1de09d88d50d0ee...</td>\n",
       "      <td>0x4a071eee72bc8664c81b62836932ed0d246da82b</td>\n",
       "      <td>3161776797401853.000000000</td>\n",
       "      <td>4623547052921765730360.000000000</td>\n",
       "      <td>31483</td>\n",
       "      <td>0x</td>\n",
       "      <td>7988300</td>\n",
       "      <td>7972612</td>\n",
       "      <td>202</td>\n",
       "    </tr>\n",
       "    <tr>\n",
       "      <th>1</th>\n",
       "      <td>2018-06-07 08:06:53+00:00</td>\n",
       "      <td>5746645</td>\n",
       "      <td>0x5a6862efb42b2420ec2f9981d3b52dc0408ee7d7ad5b...</td>\n",
       "      <td>0xff15bf4e0ecabadeb7119915e01cfff10d319fe9a094...</td>\n",
       "      <td>0x4b9b800004f5d324</td>\n",
       "      <td>0x1dcc4de8dec75d7aab85b567b6ccd41ad312451b948a...</td>\n",
       "      <td>0xe9d44c30428c0a448f9111214b3a208061208c2f5241...</td>\n",
       "      <td>0xed264cb8a6354f9a2894a7cdc6999e533b31d0abfbbe...</td>\n",
       "      <td>0x82849d6b531149276e6e10a4269b01c640a173bb01f8...</td>\n",
       "      <td>0x310f26248268c09aa35ea080c4c30094dd6362b03d02...</td>\n",
       "      <td>0x4a071eee72bc8664c81b62836932ed0d246da82b</td>\n",
       "      <td>3161728960317834.000000000</td>\n",
       "      <td>4623730096556890906662.000000000</td>\n",
       "      <td>20360</td>\n",
       "      <td>0x</td>\n",
       "      <td>7996033</td>\n",
       "      <td>7986492</td>\n",
       "      <td>88</td>\n",
       "    </tr>\n",
       "    <tr>\n",
       "      <th>2</th>\n",
       "      <td>2018-06-07 00:32:44+00:00</td>\n",
       "      <td>5744884</td>\n",
       "      <td>0x5f3a4c9193f7881cb997998b5a8729e372a98b3a5a22...</td>\n",
       "      <td>0x7e3d1a7397d5aff63a7e0b946b19c8a9619e0a0c63ab...</td>\n",
       "      <td>0xa78fb78002a5f00c</td>\n",
       "      <td>0x42e8f623ef097831a3b0aba00651faa22158fa370d33...</td>\n",
       "      <td>0x81002000000000001002080201208409000008600120...</td>\n",
       "      <td>0xfd89272a0b1e5c1a7bff994b5b3673b996e4af793875...</td>\n",
       "      <td>0xc31816ed7c9133425bdcdb81ec90783e4c928a92060d...</td>\n",
       "      <td>0x70d6eeea4c51e7446495320ea794942e7e53358ef137...</td>\n",
       "      <td>0xcc16e3c00dbbe76603fa833ec20a48f786dfe610</td>\n",
       "      <td>3155298450168910.000000000</td>\n",
       "      <td>4618126426763930308430.000000000</td>\n",
       "      <td>18051</td>\n",
       "      <td>0x</td>\n",
       "      <td>7976645</td>\n",
       "      <td>7973470</td>\n",
       "      <td>69</td>\n",
       "    </tr>\n",
       "    <tr>\n",
       "      <th>3</th>\n",
       "      <td>2018-06-07 05:15:00+00:00</td>\n",
       "      <td>5745987</td>\n",
       "      <td>0x39f264538047c6af05cc403946c389e56d6158dcaccb...</td>\n",
       "      <td>0x8df4e2c20ccdaad5c2ce9d97e3223b95b403d1a09029...</td>\n",
       "      <td>0xea813f9f01d008b1</td>\n",
       "      <td>0x1dcc4de8dec75d7aab85b567b6ccd41ad312451b948a...</td>\n",
       "      <td>0x008818012c4020100e1c862402009a1580020a550224...</td>\n",
       "      <td>0xaa9a88642155507eb23bbb9dcc99316e0bde5ea4b03e...</td>\n",
       "      <td>0x0410d8635580ac29c11eac8c341d0b3fd58730081033...</td>\n",
       "      <td>0xf80f0bfe5aa16284d0ef3fc0d24cc2ba42e07a07a597...</td>\n",
       "      <td>0xcc16e3c00dbbe76603fa833ec20a48f786dfe610</td>\n",
       "      <td>3201049234256398.000000000</td>\n",
       "      <td>4621625102365311308707.000000000</td>\n",
       "      <td>31703</td>\n",
       "      <td>0x</td>\n",
       "      <td>7984489</td>\n",
       "      <td>7976247</td>\n",
       "      <td>185</td>\n",
       "    </tr>\n",
       "    <tr>\n",
       "      <th>4</th>\n",
       "      <td>2018-06-07 18:59:55+00:00</td>\n",
       "      <td>5749189</td>\n",
       "      <td>0x190922f24e8178fc4bd7bd7d086593879fa8ff60a106...</td>\n",
       "      <td>0x08c4eae73d3adc0667d4c1c6eeaacb1cc1806bb1cecc...</td>\n",
       "      <td>0x555c5cd30493d347</td>\n",
       "      <td>0x1dcc4de8dec75d7aab85b567b6ccd41ad312451b948a...</td>\n",
       "      <td>0x020228004040102008c428a2800000000400440408a0...</td>\n",
       "      <td>0x2874408fcce55bb98479c7e125704b94d6798475282e...</td>\n",
       "      <td>0xbd8e9b61353b537b19d203738eebad86134d89a6ab22...</td>\n",
       "      <td>0x427b050a4211069da58c345c1797e7648d57dee8173f...</td>\n",
       "      <td>0xcc16e3c00dbbe76603fa833ec20a48f786dfe610</td>\n",
       "      <td>3173572334519682.000000000</td>\n",
       "      <td>4631745698438430298972.000000000</td>\n",
       "      <td>11822</td>\n",
       "      <td>0x</td>\n",
       "      <td>7984008</td>\n",
       "      <td>7963676</td>\n",
       "      <td>89</td>\n",
       "    </tr>\n",
       "    <tr>\n",
       "      <th>5</th>\n",
       "      <td>2018-06-07 06:39:39+00:00</td>\n",
       "      <td>5746324</td>\n",
       "      <td>0x653f8c39d09f689266ae0577424e56c4266373e25836...</td>\n",
       "      <td>0xd610fc0b64d20132406b469c133f33221dc9d8889a30...</td>\n",
       "      <td>0x03f32db001e02040</td>\n",
       "      <td>0x1dcc4de8dec75d7aab85b567b6ccd41ad312451b948a...</td>\n",
       "      <td>0x01c230210802410c070310186048840c020042400842...</td>\n",
       "      <td>0x75cf01434dde951efc1183ffc33d1ad076ae4fdd001a...</td>\n",
       "      <td>0x3a94ab72d8866173845475f1ae9c49bf6a87ed52fd73...</td>\n",
       "      <td>0x308d084405c6133eb8db86803d9cd51b86426df37ef9...</td>\n",
       "      <td>0x4a071eee72bc8664c81b62836932ed0d246da82b</td>\n",
       "      <td>3216482605844826.000000000</td>\n",
       "      <td>4622704828567299842790.000000000</td>\n",
       "      <td>16476</td>\n",
       "      <td>0x</td>\n",
       "      <td>7993258</td>\n",
       "      <td>7983126</td>\n",
       "      <td>112</td>\n",
       "    </tr>\n",
       "    <tr>\n",
       "      <th>6</th>\n",
       "      <td>2018-06-07 18:08:32+00:00</td>\n",
       "      <td>5748989</td>\n",
       "      <td>0x1394a3097d63c400ae42d041e2178ba2a4be091b9669...</td>\n",
       "      <td>0xe510bf0f2ebb445b6387afd62e976e4b44dd22c6207d...</td>\n",
       "      <td>0x54bfe7a40419ad69</td>\n",
       "      <td>0x1dcc4de8dec75d7aab85b567b6ccd41ad312451b948a...</td>\n",
       "      <td>0x00c69064c8002112031b144001208c08120680d149a4...</td>\n",
       "      <td>0x382f8c7a4a12a0fb5f140ca37f53f5d59486919896b7...</td>\n",
       "      <td>0x0c1805a0909e288cbfe5adbcd1699e5eb7d5ec6c5705...</td>\n",
       "      <td>0x4efcb3b8927e530b316880b9b171dfb37c74cb69d7b3...</td>\n",
       "      <td>0x4a071eee72bc8664c81b62836932ed0d246da82b</td>\n",
       "      <td>3179962101165668.000000000</td>\n",
       "      <td>4631110927315418473541.000000000</td>\n",
       "      <td>22510</td>\n",
       "      <td>0x</td>\n",
       "      <td>7976645</td>\n",
       "      <td>7970648</td>\n",
       "      <td>122</td>\n",
       "    </tr>\n",
       "    <tr>\n",
       "      <th>7</th>\n",
       "      <td>2018-06-07 19:00:14+00:00</td>\n",
       "      <td>5749192</td>\n",
       "      <td>0x47794cc3a74c87d6551c40921a9f3a7ebf6c49f03976...</td>\n",
       "      <td>0x461552bcdfc812c9e53098f225b340d4aee3ae907d44...</td>\n",
       "      <td>0xb03ab3200120d89e</td>\n",
       "      <td>0x1dcc4de8dec75d7aab85b567b6ccd41ad312451b948a...</td>\n",
       "      <td>0x00000100000000000000200000000000100000000000...</td>\n",
       "      <td>0x62537aac1be37b7aa980708f8042b42a63f3ef8eca90...</td>\n",
       "      <td>0x0b235892c9521749296b6a6f7192c23b9e250f5f0f93...</td>\n",
       "      <td>0x4e1f48c46f01bdf0a8a09c9b870371f5b6b3a4a0e7bd...</td>\n",
       "      <td>0x4a071eee72bc8664c81b62836932ed0d246da82b</td>\n",
       "      <td>3178222736125136.000000000</td>\n",
       "      <td>4631755226905127892464.000000000</td>\n",
       "      <td>18880</td>\n",
       "      <td>0x</td>\n",
       "      <td>7976238</td>\n",
       "      <td>7966882</td>\n",
       "      <td>131</td>\n",
       "    </tr>\n",
       "    <tr>\n",
       "      <th>8</th>\n",
       "      <td>2018-06-07 09:31:01+00:00</td>\n",
       "      <td>5746967</td>\n",
       "      <td>0x2e7b3d946b8cabe82d9ca63584dfcd445bd64276150b...</td>\n",
       "      <td>0x42d9385357da7133b299215961edf29521fac2569655...</td>\n",
       "      <td>0x0ac1f324047c4e03</td>\n",
       "      <td>0x1dcc4de8dec75d7aab85b567b6ccd41ad312451b948a...</td>\n",
       "      <td>0x02f08d9028d81301499862242702818a2018c45c162f...</td>\n",
       "      <td>0xfff95568efaee1dedfc7cda3b5caae29988e4571a8f4...</td>\n",
       "      <td>0x84c801cef46594de57b651fa417f3d9bb68333b7a5d9...</td>\n",
       "      <td>0x41e70747b643bf983fb2f26bb40a7b9969662ecaec64...</td>\n",
       "      <td>0x4a071eee72bc8664c81b62836932ed0d246da82b</td>\n",
       "      <td>3127649310062653.000000000</td>\n",
       "      <td>4624744610586982872728.000000000</td>\n",
       "      <td>21868</td>\n",
       "      <td>0x</td>\n",
       "      <td>7968875</td>\n",
       "      <td>7953584</td>\n",
       "      <td>97</td>\n",
       "    </tr>\n",
       "    <tr>\n",
       "      <th>9</th>\n",
       "      <td>2018-06-07 20:24:04+00:00</td>\n",
       "      <td>5749519</td>\n",
       "      <td>0x16bbe841335c72aeb7153883ca275080a7817c30dd23...</td>\n",
       "      <td>0xa8d84db26296b5ae2c59bee52e7eb095e76a387099c7...</td>\n",
       "      <td>0x2f97e9a8166e4664</td>\n",
       "      <td>0x1dcc4de8dec75d7aab85b567b6ccd41ad312451b948a...</td>\n",
       "      <td>0x0086008005006119010c0c408200a000000084010008...</td>\n",
       "      <td>0x9adb0b93eceed090a15e6efa35f92a23bb6781e5147f...</td>\n",
       "      <td>0xaeca92d9f7a2c1974b6052813c0b1222dbcbfc44830e...</td>\n",
       "      <td>0x2e18c92f8be510e0e308f21160482b888ce7cec082df...</td>\n",
       "      <td>0x4a071eee72bc8664c81b62836932ed0d246da82b</td>\n",
       "      <td>3167141646286525.000000000</td>\n",
       "      <td>4632794065287375591067.000000000</td>\n",
       "      <td>14321</td>\n",
       "      <td>0x</td>\n",
       "      <td>7978865</td>\n",
       "      <td>7975298</td>\n",
       "      <td>88</td>\n",
       "    </tr>\n",
       "  </tbody>\n",
       "</table>\n",
       "</div>"
      ],
      "text/plain": [
       "                  timestamp   number  \\\n",
       "0 2018-06-07 07:52:01+00:00  5746587   \n",
       "1 2018-06-07 08:06:53+00:00  5746645   \n",
       "2 2018-06-07 00:32:44+00:00  5744884   \n",
       "3 2018-06-07 05:15:00+00:00  5745987   \n",
       "4 2018-06-07 18:59:55+00:00  5749189   \n",
       "5 2018-06-07 06:39:39+00:00  5746324   \n",
       "6 2018-06-07 18:08:32+00:00  5748989   \n",
       "7 2018-06-07 19:00:14+00:00  5749192   \n",
       "8 2018-06-07 09:31:01+00:00  5746967   \n",
       "9 2018-06-07 20:24:04+00:00  5749519   \n",
       "\n",
       "                                                hash  \\\n",
       "0  0x52bbbf23565412b681ed1efac89ea3fdb8793d5ecb61...   \n",
       "1  0x5a6862efb42b2420ec2f9981d3b52dc0408ee7d7ad5b...   \n",
       "2  0x5f3a4c9193f7881cb997998b5a8729e372a98b3a5a22...   \n",
       "3  0x39f264538047c6af05cc403946c389e56d6158dcaccb...   \n",
       "4  0x190922f24e8178fc4bd7bd7d086593879fa8ff60a106...   \n",
       "5  0x653f8c39d09f689266ae0577424e56c4266373e25836...   \n",
       "6  0x1394a3097d63c400ae42d041e2178ba2a4be091b9669...   \n",
       "7  0x47794cc3a74c87d6551c40921a9f3a7ebf6c49f03976...   \n",
       "8  0x2e7b3d946b8cabe82d9ca63584dfcd445bd64276150b...   \n",
       "9  0x16bbe841335c72aeb7153883ca275080a7817c30dd23...   \n",
       "\n",
       "                                         parent_hash               nonce  \\\n",
       "0  0x36a6a43e9453ef5339ce4245292af31a53ff8ef760f5...  0x5f6e5ec0251d3b31   \n",
       "1  0xff15bf4e0ecabadeb7119915e01cfff10d319fe9a094...  0x4b9b800004f5d324   \n",
       "2  0x7e3d1a7397d5aff63a7e0b946b19c8a9619e0a0c63ab...  0xa78fb78002a5f00c   \n",
       "3  0x8df4e2c20ccdaad5c2ce9d97e3223b95b403d1a09029...  0xea813f9f01d008b1   \n",
       "4  0x08c4eae73d3adc0667d4c1c6eeaacb1cc1806bb1cecc...  0x555c5cd30493d347   \n",
       "5  0xd610fc0b64d20132406b469c133f33221dc9d8889a30...  0x03f32db001e02040   \n",
       "6  0xe510bf0f2ebb445b6387afd62e976e4b44dd22c6207d...  0x54bfe7a40419ad69   \n",
       "7  0x461552bcdfc812c9e53098f225b340d4aee3ae907d44...  0xb03ab3200120d89e   \n",
       "8  0x42d9385357da7133b299215961edf29521fac2569655...  0x0ac1f324047c4e03   \n",
       "9  0xa8d84db26296b5ae2c59bee52e7eb095e76a387099c7...  0x2f97e9a8166e4664   \n",
       "\n",
       "                                         sha3_uncles  \\\n",
       "0  0x1dcc4de8dec75d7aab85b567b6ccd41ad312451b948a...   \n",
       "1  0x1dcc4de8dec75d7aab85b567b6ccd41ad312451b948a...   \n",
       "2  0x42e8f623ef097831a3b0aba00651faa22158fa370d33...   \n",
       "3  0x1dcc4de8dec75d7aab85b567b6ccd41ad312451b948a...   \n",
       "4  0x1dcc4de8dec75d7aab85b567b6ccd41ad312451b948a...   \n",
       "5  0x1dcc4de8dec75d7aab85b567b6ccd41ad312451b948a...   \n",
       "6  0x1dcc4de8dec75d7aab85b567b6ccd41ad312451b948a...   \n",
       "7  0x1dcc4de8dec75d7aab85b567b6ccd41ad312451b948a...   \n",
       "8  0x1dcc4de8dec75d7aab85b567b6ccd41ad312451b948a...   \n",
       "9  0x1dcc4de8dec75d7aab85b567b6ccd41ad312451b948a...   \n",
       "\n",
       "                                          logs_bloom  \\\n",
       "0  0x21400221204208040c108286042001ce0004000f0828...   \n",
       "1  0xe9d44c30428c0a448f9111214b3a208061208c2f5241...   \n",
       "2  0x81002000000000001002080201208409000008600120...   \n",
       "3  0x008818012c4020100e1c862402009a1580020a550224...   \n",
       "4  0x020228004040102008c428a2800000000400440408a0...   \n",
       "5  0x01c230210802410c070310186048840c020042400842...   \n",
       "6  0x00c69064c8002112031b144001208c08120680d149a4...   \n",
       "7  0x00000100000000000000200000000000100000000000...   \n",
       "8  0x02f08d9028d81301499862242702818a2018c45c162f...   \n",
       "9  0x0086008005006119010c0c408200a000000084010008...   \n",
       "\n",
       "                                   transactions_root  \\\n",
       "0  0xe3dcf3629e654c233c866ded37591a3080b6d921b898...   \n",
       "1  0xed264cb8a6354f9a2894a7cdc6999e533b31d0abfbbe...   \n",
       "2  0xfd89272a0b1e5c1a7bff994b5b3673b996e4af793875...   \n",
       "3  0xaa9a88642155507eb23bbb9dcc99316e0bde5ea4b03e...   \n",
       "4  0x2874408fcce55bb98479c7e125704b94d6798475282e...   \n",
       "5  0x75cf01434dde951efc1183ffc33d1ad076ae4fdd001a...   \n",
       "6  0x382f8c7a4a12a0fb5f140ca37f53f5d59486919896b7...   \n",
       "7  0x62537aac1be37b7aa980708f8042b42a63f3ef8eca90...   \n",
       "8  0xfff95568efaee1dedfc7cda3b5caae29988e4571a8f4...   \n",
       "9  0x9adb0b93eceed090a15e6efa35f92a23bb6781e5147f...   \n",
       "\n",
       "                                          state_root  \\\n",
       "0  0x6f61a1437f6f50c8112855f071610d9de647629cc801...   \n",
       "1  0x82849d6b531149276e6e10a4269b01c640a173bb01f8...   \n",
       "2  0xc31816ed7c9133425bdcdb81ec90783e4c928a92060d...   \n",
       "3  0x0410d8635580ac29c11eac8c341d0b3fd58730081033...   \n",
       "4  0xbd8e9b61353b537b19d203738eebad86134d89a6ab22...   \n",
       "5  0x3a94ab72d8866173845475f1ae9c49bf6a87ed52fd73...   \n",
       "6  0x0c1805a0909e288cbfe5adbcd1699e5eb7d5ec6c5705...   \n",
       "7  0x0b235892c9521749296b6a6f7192c23b9e250f5f0f93...   \n",
       "8  0x84c801cef46594de57b651fa417f3d9bb68333b7a5d9...   \n",
       "9  0xaeca92d9f7a2c1974b6052813c0b1222dbcbfc44830e...   \n",
       "\n",
       "                                       receipts_root  \\\n",
       "0  0x7d526b323ed18551925e79b75e78f1de09d88d50d0ee...   \n",
       "1  0x310f26248268c09aa35ea080c4c30094dd6362b03d02...   \n",
       "2  0x70d6eeea4c51e7446495320ea794942e7e53358ef137...   \n",
       "3  0xf80f0bfe5aa16284d0ef3fc0d24cc2ba42e07a07a597...   \n",
       "4  0x427b050a4211069da58c345c1797e7648d57dee8173f...   \n",
       "5  0x308d084405c6133eb8db86803d9cd51b86426df37ef9...   \n",
       "6  0x4efcb3b8927e530b316880b9b171dfb37c74cb69d7b3...   \n",
       "7  0x4e1f48c46f01bdf0a8a09c9b870371f5b6b3a4a0e7bd...   \n",
       "8  0x41e70747b643bf983fb2f26bb40a7b9969662ecaec64...   \n",
       "9  0x2e18c92f8be510e0e308f21160482b888ce7cec082df...   \n",
       "\n",
       "                                        miner                  difficulty  \\\n",
       "0  0x4a071eee72bc8664c81b62836932ed0d246da82b  3161776797401853.000000000   \n",
       "1  0x4a071eee72bc8664c81b62836932ed0d246da82b  3161728960317834.000000000   \n",
       "2  0xcc16e3c00dbbe76603fa833ec20a48f786dfe610  3155298450168910.000000000   \n",
       "3  0xcc16e3c00dbbe76603fa833ec20a48f786dfe610  3201049234256398.000000000   \n",
       "4  0xcc16e3c00dbbe76603fa833ec20a48f786dfe610  3173572334519682.000000000   \n",
       "5  0x4a071eee72bc8664c81b62836932ed0d246da82b  3216482605844826.000000000   \n",
       "6  0x4a071eee72bc8664c81b62836932ed0d246da82b  3179962101165668.000000000   \n",
       "7  0x4a071eee72bc8664c81b62836932ed0d246da82b  3178222736125136.000000000   \n",
       "8  0x4a071eee72bc8664c81b62836932ed0d246da82b  3127649310062653.000000000   \n",
       "9  0x4a071eee72bc8664c81b62836932ed0d246da82b  3167141646286525.000000000   \n",
       "\n",
       "                   total_difficulty   size extra_data  gas_limit  gas_used  \\\n",
       "0  4623547052921765730360.000000000  31483         0x    7988300   7972612   \n",
       "1  4623730096556890906662.000000000  20360         0x    7996033   7986492   \n",
       "2  4618126426763930308430.000000000  18051         0x    7976645   7973470   \n",
       "3  4621625102365311308707.000000000  31703         0x    7984489   7976247   \n",
       "4  4631745698438430298972.000000000  11822         0x    7984008   7963676   \n",
       "5  4622704828567299842790.000000000  16476         0x    7993258   7983126   \n",
       "6  4631110927315418473541.000000000  22510         0x    7976645   7970648   \n",
       "7  4631755226905127892464.000000000  18880         0x    7976238   7966882   \n",
       "8  4624744610586982872728.000000000  21868         0x    7968875   7953584   \n",
       "9  4632794065287375591067.000000000  14321         0x    7978865   7975298   \n",
       "\n",
       "   transaction_count  \n",
       "0                202  \n",
       "1                 88  \n",
       "2                 69  \n",
       "3                185  \n",
       "4                 89  \n",
       "5                112  \n",
       "6                122  \n",
       "7                131  \n",
       "8                 97  \n",
       "9                 88  "
      ]
     },
     "execution_count": 16,
     "metadata": {},
     "output_type": "execute_result"
    }
   ],
   "source": [
    "blocks_data = \"\"\"\n",
    "        SELECT * \n",
    "        FROM `bigquery-public-data.crypto_ethereum.blocks`\n",
    "        LIMIT 10\n",
    "        \"\"\"   \n",
    "blocks_data = client.query(blocks_data)\n",
    "blocks_data_res = blocks_data.to_dataframe()\n",
    "\n",
    "blocks_data_res"
   ]
  },
  {
   "cell_type": "code",
   "execution_count": 17,
   "metadata": {},
   "outputs": [
    {
     "data": {
      "text/plain": [
       "[SchemaField('hash', 'STRING', 'REQUIRED', 'Hash of the transaction', (), None),\n",
       " SchemaField('nonce', 'INTEGER', 'REQUIRED', 'The number of transactions made by the sender prior to this one', (), None),\n",
       " SchemaField('transaction_index', 'INTEGER', 'REQUIRED', 'Integer of the transactions index position in the block', (), None),\n",
       " SchemaField('from_address', 'STRING', 'REQUIRED', 'Address of the sender', (), None),\n",
       " SchemaField('to_address', 'STRING', 'NULLABLE', 'Address of the receiver. null when its a contract creation transaction', (), None),\n",
       " SchemaField('value', 'NUMERIC', 'NULLABLE', 'Value transferred in Wei', (), None),\n",
       " SchemaField('gas', 'INTEGER', 'NULLABLE', 'Gas provided by the sender', (), None),\n",
       " SchemaField('gas_price', 'INTEGER', 'NULLABLE', 'Gas price provided by the sender in Wei', (), None),\n",
       " SchemaField('input', 'STRING', 'NULLABLE', 'The data sent along with the transaction', (), None),\n",
       " SchemaField('receipt_cumulative_gas_used', 'INTEGER', 'NULLABLE', 'The total amount of gas used when this transaction was executed in the block', (), None),\n",
       " SchemaField('receipt_gas_used', 'INTEGER', 'NULLABLE', 'The amount of gas used by this specific transaction alone', (), None),\n",
       " SchemaField('receipt_contract_address', 'STRING', 'NULLABLE', 'The contract address created, if the transaction was a contract creation, otherwise null', (), None),\n",
       " SchemaField('receipt_root', 'STRING', 'NULLABLE', '32 bytes of post-transaction stateroot (pre Byzantium)', (), None),\n",
       " SchemaField('receipt_status', 'INTEGER', 'NULLABLE', 'Either 1 (success) or 0 (failure) (post Byzantium)', (), None),\n",
       " SchemaField('block_timestamp', 'TIMESTAMP', 'REQUIRED', 'Timestamp of the block where this transaction was in', (), None),\n",
       " SchemaField('block_number', 'INTEGER', 'REQUIRED', 'Block number where this transaction was in', (), None),\n",
       " SchemaField('block_hash', 'STRING', 'REQUIRED', 'Hash of the block where this transaction was in', (), None)]"
      ]
     },
     "execution_count": 17,
     "metadata": {},
     "output_type": "execute_result"
    }
   ],
   "source": [
    "transactions = client.get_table(ethereum_dataset.table('transactions'))\n",
    "transactions.schema"
   ]
  },
  {
   "cell_type": "code",
   "execution_count": 18,
   "metadata": {},
   "outputs": [
    {
     "data": {
      "text/plain": [
       "[SchemaField('address', 'STRING', 'REQUIRED', 'Address of the contract', (), None),\n",
       " SchemaField('bytecode', 'STRING', 'NULLABLE', 'Bytecode of the contract', (), None),\n",
       " SchemaField('function_sighashes', 'STRING', 'REPEATED', '4-byte function signature hashes', (), None),\n",
       " SchemaField('is_erc20', 'BOOLEAN', 'NULLABLE', 'Whether this contract is an ERC20 contract', (), None),\n",
       " SchemaField('is_erc721', 'BOOLEAN', 'NULLABLE', 'Whether this contract is an ERC721 contract', (), None),\n",
       " SchemaField('block_timestamp', 'TIMESTAMP', 'REQUIRED', 'Timestamp of the block where this contract was created', (), None),\n",
       " SchemaField('block_number', 'INTEGER', 'REQUIRED', 'Block number where this contract was created', (), None),\n",
       " SchemaField('block_hash', 'STRING', 'REQUIRED', 'Hash of the block where this contract was created', (), None)]"
      ]
     },
     "execution_count": 18,
     "metadata": {},
     "output_type": "execute_result"
    }
   ],
   "source": [
    "contracts = client.get_table(ethereum_dataset.table('contracts'))\n",
    "contracts.schema"
   ]
  },
  {
   "cell_type": "code",
   "execution_count": 19,
   "metadata": {},
   "outputs": [
    {
     "data": {
      "text/plain": [
       "[SchemaField('token_address', 'STRING', 'REQUIRED', 'ERC20 token address', (), None),\n",
       " SchemaField('from_address', 'STRING', 'NULLABLE', 'Address of the sender', (), None),\n",
       " SchemaField('to_address', 'STRING', 'NULLABLE', 'Address of the receiver', (), None),\n",
       " SchemaField('value', 'STRING', 'NULLABLE', 'Amount of tokens transferred (ERC20) / id of the token transferred (ERC721). Use safe_cast for casting to NUMERIC or FLOAT64', (), None),\n",
       " SchemaField('transaction_hash', 'STRING', 'REQUIRED', 'Transaction hash', (), None),\n",
       " SchemaField('log_index', 'INTEGER', 'REQUIRED', 'Log index in the transaction receipt', (), None),\n",
       " SchemaField('block_timestamp', 'TIMESTAMP', 'REQUIRED', 'Timestamp of the block where this transfer was in', (), None),\n",
       " SchemaField('block_number', 'INTEGER', 'REQUIRED', 'Block number where this transfer was in', (), None),\n",
       " SchemaField('block_hash', 'STRING', 'REQUIRED', 'Hash of the block where this transfer was in', (), None)]"
      ]
     },
     "execution_count": 19,
     "metadata": {},
     "output_type": "execute_result"
    }
   ],
   "source": [
    "token_transfers = client.get_table(ethereum_dataset.table('token_transfers'))\n",
    "token_transfers.schema"
   ]
  },
  {
   "cell_type": "code",
   "execution_count": 21,
   "metadata": {},
   "outputs": [
    {
     "data": {
      "text/plain": [
       "[SchemaField('address', 'STRING', 'REQUIRED', 'The address of the ERC20 token', (), None),\n",
       " SchemaField('symbol', 'STRING', 'NULLABLE', 'The symbol of the ERC20 token', (), None),\n",
       " SchemaField('name', 'STRING', 'NULLABLE', 'The name of the ERC20 token', (), None),\n",
       " SchemaField('decimals', 'STRING', 'NULLABLE', 'The number of decimals the token uses. Use safe_cast for casting to NUMERIC or FLOAT64', (), None),\n",
       " SchemaField('total_supply', 'STRING', 'NULLABLE', 'The total token supply. Use safe_cast for casting to NUMERIC or FLOAT64', (), None),\n",
       " SchemaField('block_timestamp', 'TIMESTAMP', 'REQUIRED', 'Timestamp of the block where this token was created', (), None),\n",
       " SchemaField('block_number', 'INTEGER', 'REQUIRED', 'Block number where this token was created', (), None),\n",
       " SchemaField('block_hash', 'STRING', 'REQUIRED', 'Hash of the block where this token was created', (), None)]"
      ]
     },
     "execution_count": 21,
     "metadata": {},
     "output_type": "execute_result"
    }
   ],
   "source": [
    "tokens = client.get_table(ethereum_dataset.table('tokens'))\n",
    "tokens.schema"
   ]
  },
  {
   "cell_type": "code",
   "execution_count": 23,
   "metadata": {},
   "outputs": [
    {
     "data": {
      "text/plain": [
       "[SchemaField('timestamp', 'TIMESTAMP', 'REQUIRED', 'The timestamp for when the block was collated', (), None),\n",
       " SchemaField('number', 'INTEGER', 'REQUIRED', 'The block number', (), None),\n",
       " SchemaField('hash', 'STRING', 'REQUIRED', 'Hash of the block', (), None),\n",
       " SchemaField('parent_hash', 'STRING', 'NULLABLE', 'Hash of the parent block', (), None),\n",
       " SchemaField('nonce', 'STRING', 'REQUIRED', 'Hash of the generated proof-of-work', (), None),\n",
       " SchemaField('sha3_uncles', 'STRING', 'NULLABLE', 'SHA3 of the uncles data in the block', (), None),\n",
       " SchemaField('logs_bloom', 'STRING', 'NULLABLE', 'The bloom filter for the logs of the block', (), None),\n",
       " SchemaField('transactions_root', 'STRING', 'NULLABLE', 'The root of the transaction trie of the block', (), None),\n",
       " SchemaField('state_root', 'STRING', 'NULLABLE', 'The root of the final state trie of the block', (), None),\n",
       " SchemaField('receipts_root', 'STRING', 'NULLABLE', 'The root of the receipts trie of the block', (), None),\n",
       " SchemaField('miner', 'STRING', 'NULLABLE', 'The address of the beneficiary to whom the mining rewards were given', (), None),\n",
       " SchemaField('difficulty', 'NUMERIC', 'NULLABLE', 'Integer of the difficulty for this block', (), None),\n",
       " SchemaField('total_difficulty', 'NUMERIC', 'NULLABLE', 'Integer of the total difficulty of the chain until this block', (), None),\n",
       " SchemaField('size', 'INTEGER', 'NULLABLE', 'The size of this block in bytes', (), None),\n",
       " SchemaField('extra_data', 'STRING', 'NULLABLE', 'The extra data field of this block', (), None),\n",
       " SchemaField('gas_limit', 'INTEGER', 'NULLABLE', 'The maximum gas allowed in this block', (), None),\n",
       " SchemaField('gas_used', 'INTEGER', 'NULLABLE', 'The total used gas by all transactions in this block', (), None),\n",
       " SchemaField('transaction_count', 'INTEGER', 'NULLABLE', 'The number of transactions in the block', (), None)]"
      ]
     },
     "execution_count": 23,
     "metadata": {},
     "output_type": "execute_result"
    }
   ],
   "source": [
    "blocks = client.get_table(ethereum_dataset.table('blocks'))\n",
    "blocks.schema"
   ]
  },
  {
   "cell_type": "code",
   "execution_count": 27,
   "metadata": {},
   "outputs": [
    {
     "data": {
      "text/html": [
       "<div>\n",
       "<style scoped>\n",
       "    .dataframe tbody tr th:only-of-type {\n",
       "        vertical-align: middle;\n",
       "    }\n",
       "\n",
       "    .dataframe tbody tr th {\n",
       "        vertical-align: top;\n",
       "    }\n",
       "\n",
       "    .dataframe thead th {\n",
       "        text-align: right;\n",
       "    }\n",
       "</style>\n",
       "<table border=\"1\" class=\"dataframe\">\n",
       "  <thead>\n",
       "    <tr style=\"text-align: right;\">\n",
       "      <th></th>\n",
       "      <th>block_time</th>\n",
       "      <th>transaction_count</th>\n",
       "    </tr>\n",
       "  </thead>\n",
       "  <tbody>\n",
       "    <tr>\n",
       "      <th>0</th>\n",
       "      <td>2021-01-09 04:24:16+00:00</td>\n",
       "      <td>596</td>\n",
       "    </tr>\n",
       "    <tr>\n",
       "      <th>1</th>\n",
       "      <td>2021-01-19 01:35:45+00:00</td>\n",
       "      <td>596</td>\n",
       "    </tr>\n",
       "    <tr>\n",
       "      <th>2</th>\n",
       "      <td>2021-01-08 03:55:14+00:00</td>\n",
       "      <td>596</td>\n",
       "    </tr>\n",
       "    <tr>\n",
       "      <th>3</th>\n",
       "      <td>2021-01-30 00:54:44+00:00</td>\n",
       "      <td>595</td>\n",
       "    </tr>\n",
       "    <tr>\n",
       "      <th>4</th>\n",
       "      <td>2020-12-19 01:54:07+00:00</td>\n",
       "      <td>595</td>\n",
       "    </tr>\n",
       "    <tr>\n",
       "      <th>5</th>\n",
       "      <td>2020-12-17 03:17:45+00:00</td>\n",
       "      <td>595</td>\n",
       "    </tr>\n",
       "    <tr>\n",
       "      <th>6</th>\n",
       "      <td>2021-01-08 01:39:42+00:00</td>\n",
       "      <td>595</td>\n",
       "    </tr>\n",
       "    <tr>\n",
       "      <th>7</th>\n",
       "      <td>2020-12-29 03:20:16+00:00</td>\n",
       "      <td>595</td>\n",
       "    </tr>\n",
       "    <tr>\n",
       "      <th>8</th>\n",
       "      <td>2021-01-09 04:38:32+00:00</td>\n",
       "      <td>595</td>\n",
       "    </tr>\n",
       "    <tr>\n",
       "      <th>9</th>\n",
       "      <td>2020-10-20 03:27:33+00:00</td>\n",
       "      <td>595</td>\n",
       "    </tr>\n",
       "  </tbody>\n",
       "</table>\n",
       "</div>"
      ],
      "text/plain": [
       "                 block_time  transaction_count\n",
       "0 2021-01-09 04:24:16+00:00                596\n",
       "1 2021-01-19 01:35:45+00:00                596\n",
       "2 2021-01-08 03:55:14+00:00                596\n",
       "3 2021-01-30 00:54:44+00:00                595\n",
       "4 2020-12-19 01:54:07+00:00                595\n",
       "5 2020-12-17 03:17:45+00:00                595\n",
       "6 2021-01-08 01:39:42+00:00                595\n",
       "7 2020-12-29 03:20:16+00:00                595\n",
       "8 2021-01-09 04:38:32+00:00                595\n",
       "9 2020-10-20 03:27:33+00:00                595"
      ]
     },
     "execution_count": 27,
     "metadata": {},
     "output_type": "execute_result"
    }
   ],
   "source": [
    "# highest transactions \n",
    "\n",
    "higest_transactions = \"\"\"\n",
    "        SELECT timestamp as block_time, transaction_count   \n",
    "        FROM `bigquery-public-data.crypto_ethereum.blocks`\n",
    "        ORDER BY transaction_count DESC\n",
    "        LIMIT 10\n",
    "        \"\"\"   \n",
    "higest_transactions = client.query(higest_transactions)\n",
    "higest_transactions_res = higest_transactions.to_dataframe()\n",
    "\n",
    "higest_transactions_res"
   ]
  },
  {
   "cell_type": "code",
   "execution_count": 30,
   "metadata": {},
   "outputs": [
    {
     "data": {
      "text/html": [
       "<div>\n",
       "<style scoped>\n",
       "    .dataframe tbody tr th:only-of-type {\n",
       "        vertical-align: middle;\n",
       "    }\n",
       "\n",
       "    .dataframe tbody tr th {\n",
       "        vertical-align: top;\n",
       "    }\n",
       "\n",
       "    .dataframe thead th {\n",
       "        text-align: right;\n",
       "    }\n",
       "</style>\n",
       "<table border=\"1\" class=\"dataframe\">\n",
       "  <thead>\n",
       "    <tr style=\"text-align: right;\">\n",
       "      <th></th>\n",
       "      <th>block_time</th>\n",
       "      <th>gas_used</th>\n",
       "    </tr>\n",
       "  </thead>\n",
       "  <tbody>\n",
       "    <tr>\n",
       "      <th>0</th>\n",
       "      <td>2021-01-28 13:45:44+00:00</td>\n",
       "      <td>12654494</td>\n",
       "    </tr>\n",
       "    <tr>\n",
       "      <th>1</th>\n",
       "      <td>2021-01-28 13:45:19+00:00</td>\n",
       "      <td>12653529</td>\n",
       "    </tr>\n",
       "    <tr>\n",
       "      <th>2</th>\n",
       "      <td>2021-01-28 13:43:20+00:00</td>\n",
       "      <td>12652702</td>\n",
       "    </tr>\n",
       "    <tr>\n",
       "      <th>3</th>\n",
       "      <td>2021-01-28 13:46:20+00:00</td>\n",
       "      <td>12652041</td>\n",
       "    </tr>\n",
       "    <tr>\n",
       "      <th>4</th>\n",
       "      <td>2021-01-28 13:44:34+00:00</td>\n",
       "      <td>12644434</td>\n",
       "    </tr>\n",
       "    <tr>\n",
       "      <th>5</th>\n",
       "      <td>2021-01-28 13:44:55+00:00</td>\n",
       "      <td>12643329</td>\n",
       "    </tr>\n",
       "    <tr>\n",
       "      <th>6</th>\n",
       "      <td>2021-01-28 13:45:51+00:00</td>\n",
       "      <td>12641904</td>\n",
       "    </tr>\n",
       "    <tr>\n",
       "      <th>7</th>\n",
       "      <td>2021-01-28 13:42:58+00:00</td>\n",
       "      <td>12640968</td>\n",
       "    </tr>\n",
       "    <tr>\n",
       "      <th>8</th>\n",
       "      <td>2021-01-28 13:43:09+00:00</td>\n",
       "      <td>12640464</td>\n",
       "    </tr>\n",
       "    <tr>\n",
       "      <th>9</th>\n",
       "      <td>2021-01-28 13:44:09+00:00</td>\n",
       "      <td>12638960</td>\n",
       "    </tr>\n",
       "  </tbody>\n",
       "</table>\n",
       "</div>"
      ],
      "text/plain": [
       "                 block_time  gas_used\n",
       "0 2021-01-28 13:45:44+00:00  12654494\n",
       "1 2021-01-28 13:45:19+00:00  12653529\n",
       "2 2021-01-28 13:43:20+00:00  12652702\n",
       "3 2021-01-28 13:46:20+00:00  12652041\n",
       "4 2021-01-28 13:44:34+00:00  12644434\n",
       "5 2021-01-28 13:44:55+00:00  12643329\n",
       "6 2021-01-28 13:45:51+00:00  12641904\n",
       "7 2021-01-28 13:42:58+00:00  12640968\n",
       "8 2021-01-28 13:43:09+00:00  12640464\n",
       "9 2021-01-28 13:44:09+00:00  12638960"
      ]
     },
     "execution_count": 30,
     "metadata": {},
     "output_type": "execute_result"
    }
   ],
   "source": [
    "# most gas spent\n",
    "\n",
    "most_gas_spent = \"\"\"\n",
    "                SELECT timestamp as block_time, gas_used\n",
    "                FROM `bigquery-public-data.crypto_ethereum.blocks`\n",
    "                ORDER BY gas_used DESC\n",
    "                LIMIT 10\n",
    "                \"\"\"\n",
    "\n",
    "most_gas_spent = client.query(most_gas_spent)\n",
    "most_gas_spent_res = most_gas_spent.to_dataframe()\n",
    "most_gas_spent_res"
   ]
  },
  {
   "cell_type": "code",
   "execution_count": 33,
   "metadata": {},
   "outputs": [
    {
     "data": {
      "text/html": [
       "<div>\n",
       "<style scoped>\n",
       "    .dataframe tbody tr th:only-of-type {\n",
       "        vertical-align: middle;\n",
       "    }\n",
       "\n",
       "    .dataframe tbody tr th {\n",
       "        vertical-align: top;\n",
       "    }\n",
       "\n",
       "    .dataframe thead th {\n",
       "        text-align: right;\n",
       "    }\n",
       "</style>\n",
       "<table border=\"1\" class=\"dataframe\">\n",
       "  <thead>\n",
       "    <tr style=\"text-align: right;\">\n",
       "      <th></th>\n",
       "      <th>average_gas_wastage</th>\n",
       "    </tr>\n",
       "  </thead>\n",
       "  <tbody>\n",
       "    <tr>\n",
       "      <th>0</th>\n",
       "      <td>2.042678e+06</td>\n",
       "    </tr>\n",
       "  </tbody>\n",
       "</table>\n",
       "</div>"
      ],
      "text/plain": [
       "   average_gas_wastage\n",
       "0         2.042678e+06"
      ]
     },
     "execution_count": 33,
     "metadata": {},
     "output_type": "execute_result"
    }
   ],
   "source": [
    "# average gas wastage\n",
    "\n",
    "avg_gas_wastage = \"\"\"\n",
    "            SELECT AVG(gas_limit - gas_used) as average_gas_wastage\n",
    "            FROM bigquery-public-data.crypto_ethereum.blocks\n",
    "            \"\"\"\n",
    "\n",
    "avg_gas_wastage = client.query(avg_gas_wastage)\n",
    "avg_gas_wastage_res = avg_gas_wastage.to_dataframe()\n",
    "avg_gas_wastage_res"
   ]
  },
  {
   "cell_type": "code",
   "execution_count": null,
   "metadata": {},
   "outputs": [],
   "source": []
  }
 ],
 "metadata": {
  "kernelspec": {
   "display_name": "Python 3",
   "language": "python",
   "name": "python3"
  },
  "language_info": {
   "codemirror_mode": {
    "name": "ipython",
    "version": 3
   },
   "file_extension": ".py",
   "mimetype": "text/x-python",
   "name": "python",
   "nbconvert_exporter": "python",
   "pygments_lexer": "ipython3",
   "version": "3.8.5"
  }
 },
 "nbformat": 4,
 "nbformat_minor": 4
}
